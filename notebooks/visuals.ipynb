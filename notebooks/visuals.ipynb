{
 "cells": [
  {
   "cell_type": "code",
   "execution_count": 8,
   "metadata": {},
   "outputs": [],
   "source": [
    "import pandas as pd\n",
    "\n"
   ]
  },
  {
   "cell_type": "code",
   "execution_count": 9,
   "metadata": {},
   "outputs": [],
   "source": [
    "audiodiff_df = pd.read_csv('/Users/tbyfield/Downloads/audio_features_difference.csv')"
   ]
  },
  {
   "cell_type": "code",
   "execution_count": 10,
   "metadata": {},
   "outputs": [],
   "source": [
    "audioweighted = pd.read_csv('/Users/tbyfield/Downloads/weighted_audio_features.csv')"
   ]
  },
  {
   "cell_type": "code",
   "execution_count": 11,
   "metadata": {},
   "outputs": [
    {
     "data": {
      "text/html": [
       "<div>\n",
       "<style scoped>\n",
       "    .dataframe tbody tr th:only-of-type {\n",
       "        vertical-align: middle;\n",
       "    }\n",
       "\n",
       "    .dataframe tbody tr th {\n",
       "        vertical-align: top;\n",
       "    }\n",
       "\n",
       "    .dataframe thead th {\n",
       "        text-align: right;\n",
       "    }\n",
       "</style>\n",
       "<table border=\"1\" class=\"dataframe\">\n",
       "  <thead>\n",
       "    <tr style=\"text-align: right;\">\n",
       "      <th></th>\n",
       "      <th>Artist</th>\n",
       "      <th>danceability</th>\n",
       "      <th>energy</th>\n",
       "      <th>speechiness</th>\n",
       "      <th>acousticness</th>\n",
       "      <th>instrumentalness</th>\n",
       "      <th>loudness</th>\n",
       "      <th>valence</th>\n",
       "      <th>tempo</th>\n",
       "      <th>duration_ms</th>\n",
       "    </tr>\n",
       "  </thead>\n",
       "  <tbody>\n",
       "    <tr>\n",
       "      <th>0</th>\n",
       "      <td>DaBaby</td>\n",
       "      <td>0.111645</td>\n",
       "      <td>0.037665</td>\n",
       "      <td>0.193627</td>\n",
       "      <td>-0.148411</td>\n",
       "      <td>-0.007177</td>\n",
       "      <td>0.46902</td>\n",
       "      <td>0.088425</td>\n",
       "      <td>9.396799</td>\n",
       "      <td>-55269.658122</td>\n",
       "    </tr>\n",
       "    <tr>\n",
       "      <th>1</th>\n",
       "      <td>Billie Eilish</td>\n",
       "      <td>-0.207955</td>\n",
       "      <td>-0.368735</td>\n",
       "      <td>-0.020363</td>\n",
       "      <td>0.567581</td>\n",
       "      <td>0.158720</td>\n",
       "      <td>-6.74898</td>\n",
       "      <td>-0.279975</td>\n",
       "      <td>-6.469201</td>\n",
       "      <td>16068.441878</td>\n",
       "    </tr>\n",
       "    <tr>\n",
       "      <th>2</th>\n",
       "      <td>Post Malone</td>\n",
       "      <td>-0.034355</td>\n",
       "      <td>0.006165</td>\n",
       "      <td>-0.041583</td>\n",
       "      <td>-0.041983</td>\n",
       "      <td>-0.006927</td>\n",
       "      <td>0.95512</td>\n",
       "      <td>-0.033075</td>\n",
       "      <td>-5.182301</td>\n",
       "      <td>-12550.358122</td>\n",
       "    </tr>\n",
       "    <tr>\n",
       "      <th>3</th>\n",
       "      <td>SZA</td>\n",
       "      <td>-0.101155</td>\n",
       "      <td>-0.060235</td>\n",
       "      <td>-0.038223</td>\n",
       "      <td>0.085911</td>\n",
       "      <td>0.049369</td>\n",
       "      <td>-1.40048</td>\n",
       "      <td>-0.083075</td>\n",
       "      <td>-10.042801</td>\n",
       "      <td>-10190.958122</td>\n",
       "    </tr>\n",
       "    <tr>\n",
       "      <th>4</th>\n",
       "      <td>Drake</td>\n",
       "      <td>0.015945</td>\n",
       "      <td>-0.127735</td>\n",
       "      <td>0.052507</td>\n",
       "      <td>-0.179292</td>\n",
       "      <td>0.003223</td>\n",
       "      <td>-1.91138</td>\n",
       "      <td>-0.216175</td>\n",
       "      <td>13.045699</td>\n",
       "      <td>37175.341878</td>\n",
       "    </tr>\n",
       "    <tr>\n",
       "      <th>5</th>\n",
       "      <td>Lil Baby</td>\n",
       "      <td>0.143145</td>\n",
       "      <td>-0.110935</td>\n",
       "      <td>0.188477</td>\n",
       "      <td>-0.136545</td>\n",
       "      <td>-0.007177</td>\n",
       "      <td>-1.15328</td>\n",
       "      <td>-0.144775</td>\n",
       "      <td>-1.323001</td>\n",
       "      <td>-34076.658122</td>\n",
       "    </tr>\n",
       "    <tr>\n",
       "      <th>6</th>\n",
       "      <td>Taylor Swift</td>\n",
       "      <td>-0.066455</td>\n",
       "      <td>-0.025035</td>\n",
       "      <td>-0.045853</td>\n",
       "      <td>-0.037436</td>\n",
       "      <td>-0.006873</td>\n",
       "      <td>-0.80998</td>\n",
       "      <td>-0.144325</td>\n",
       "      <td>-5.258301</td>\n",
       "      <td>30636.841878</td>\n",
       "    </tr>\n",
       "    <tr>\n",
       "      <th>7</th>\n",
       "      <td>Luke Combs</td>\n",
       "      <td>-0.143955</td>\n",
       "      <td>0.051265</td>\n",
       "      <td>-0.074173</td>\n",
       "      <td>-0.063019</td>\n",
       "      <td>-0.007177</td>\n",
       "      <td>0.63372</td>\n",
       "      <td>-0.002775</td>\n",
       "      <td>-3.638901</td>\n",
       "      <td>16334.241878</td>\n",
       "    </tr>\n",
       "    <tr>\n",
       "      <th>8</th>\n",
       "      <td>Morgan Wallen</td>\n",
       "      <td>-0.095555</td>\n",
       "      <td>0.103665</td>\n",
       "      <td>-0.074353</td>\n",
       "      <td>0.082435</td>\n",
       "      <td>-0.007069</td>\n",
       "      <td>0.96322</td>\n",
       "      <td>0.033725</td>\n",
       "      <td>32.206599</td>\n",
       "      <td>-16500.458122</td>\n",
       "    </tr>\n",
       "    <tr>\n",
       "      <th>9</th>\n",
       "      <td>Doja Cat</td>\n",
       "      <td>0.088545</td>\n",
       "      <td>0.024165</td>\n",
       "      <td>0.013447</td>\n",
       "      <td>-0.032529</td>\n",
       "      <td>-0.002800</td>\n",
       "      <td>0.62642</td>\n",
       "      <td>0.082825</td>\n",
       "      <td>-4.242301</td>\n",
       "      <td>-14881.658122</td>\n",
       "    </tr>\n",
       "  </tbody>\n",
       "</table>\n",
       "</div>"
      ],
      "text/plain": [
       "          Artist  danceability    energy  speechiness  acousticness  \\\n",
       "0         DaBaby      0.111645  0.037665     0.193627     -0.148411   \n",
       "1  Billie Eilish     -0.207955 -0.368735    -0.020363      0.567581   \n",
       "2    Post Malone     -0.034355  0.006165    -0.041583     -0.041983   \n",
       "3            SZA     -0.101155 -0.060235    -0.038223      0.085911   \n",
       "4          Drake      0.015945 -0.127735     0.052507     -0.179292   \n",
       "5       Lil Baby      0.143145 -0.110935     0.188477     -0.136545   \n",
       "6   Taylor Swift     -0.066455 -0.025035    -0.045853     -0.037436   \n",
       "7     Luke Combs     -0.143955  0.051265    -0.074173     -0.063019   \n",
       "8  Morgan Wallen     -0.095555  0.103665    -0.074353      0.082435   \n",
       "9       Doja Cat      0.088545  0.024165     0.013447     -0.032529   \n",
       "\n",
       "   instrumentalness  loudness   valence      tempo   duration_ms  \n",
       "0         -0.007177   0.46902  0.088425   9.396799 -55269.658122  \n",
       "1          0.158720  -6.74898 -0.279975  -6.469201  16068.441878  \n",
       "2         -0.006927   0.95512 -0.033075  -5.182301 -12550.358122  \n",
       "3          0.049369  -1.40048 -0.083075 -10.042801 -10190.958122  \n",
       "4          0.003223  -1.91138 -0.216175  13.045699  37175.341878  \n",
       "5         -0.007177  -1.15328 -0.144775  -1.323001 -34076.658122  \n",
       "6         -0.006873  -0.80998 -0.144325  -5.258301  30636.841878  \n",
       "7         -0.007177   0.63372 -0.002775  -3.638901  16334.241878  \n",
       "8         -0.007069   0.96322  0.033725  32.206599 -16500.458122  \n",
       "9         -0.002800   0.62642  0.082825  -4.242301 -14881.658122  "
      ]
     },
     "execution_count": 11,
     "metadata": {},
     "output_type": "execute_result"
    }
   ],
   "source": [
    "audiodiff_df"
   ]
  },
  {
   "cell_type": "code",
   "execution_count": 12,
   "metadata": {},
   "outputs": [],
   "source": [
    "import plotnine\n",
    "from plotnine import ggplot, geom_point, aes, stat_smooth, facet_wrap, theme, element_text"
   ]
  },
  {
   "cell_type": "code",
   "execution_count": 13,
   "metadata": {},
   "outputs": [
    {
     "data": {
      "image/png": "[encoded data removed]",
      "text/plain": [
       "<Figure size 640x480 with 1 Axes>"
      ]
     },
     "metadata": {},
     "output_type": "display_data"
    },
    {
     "data": {
      "text/plain": [
       "<ggplot: (8785418534644)>"
      ]
     },
     "execution_count": 13,
     "metadata": {},
     "output_type": "execute_result"
    }
   ],
   "source": [
    "(ggplot(audiodiff_df, aes('Artist','danceability'))\n",
    " + geom_point() + theme(axis_text_x = element_text(angle=90))\n",
    " )"
   ]
  },
  {
   "cell_type": "code",
   "execution_count": 31,
   "metadata": {},
   "outputs": [
    {
     "data": {
      "application/vnd.plotly.v1+json": {
       "config": {
        "plotlyServerURL": "https://plot.ly"
       },
       "data": [
        {
         "dimensions": [
          {
           "label": "danceability",
           "values": [
            0.1116448286146297,
            -0.2079551713853702,
            -0.0343551713853702,
            -0.1011551713853702,
            0.0159448286146298,
            0.1431448286146297,
            -0.0664551713853702,
            -0.1439551713853701,
            -0.0955551713853701,
            0.0885448286146299
           ]
          },
          {
           "label": "loudness",
           "values": [
            0.4690201570383046,
            -6.748979842961694,
            0.955120157038304,
            -1.4004798429616967,
            -1.9113798429616955,
            -1.1532798429616964,
            -0.8099798429616953,
            0.6337201570383053,
            0.9632201570383048,
            0.6264201570383054
           ]
          },
          {
           "label": "valence",
           "values": [
            0.0884252758221159,
            -0.2799747241778841,
            -0.033074724177884,
            -0.0830747241778842,
            -0.216174724177884,
            -0.144774724177884,
            -0.1443247241778841,
            -0.002774724177884,
            0.0337252758221159,
            0.0828252758221158
           ]
          },
          {
           "label": "energy",
           "values": [
            0.0376650114978568,
            -0.3687349885021432,
            0.0061650114978568,
            -0.0602349885021432,
            -0.1277349885021432,
            -0.1109349885021432,
            -0.0250349885021432,
            0.0512650114978567,
            0.1036650114978567,
            0.0241650114978567
           ]
          },
          {
           "label": "speechiness",
           "values": [
            0.1936271798664046,
            -0.0203628201335953,
            -0.0415828201335953,
            -0.0382228201335953,
            0.0525071798664046,
            0.1884771798664046,
            -0.0458528201335953,
            -0.0741728201335953,
            -0.0743528201335953,
            0.0134471798664046
           ]
          },
          {
           "label": "acousticness",
           "values": [
            -0.1484108975414137,
            0.5675811024585863,
            -0.0419828975414137,
            0.0859111024585862,
            -0.1792921975414138,
            -0.1365448975414137,
            -0.0374358975414137,
            -0.0630188975414137,
            0.0824351024585862,
            -0.0325288975414137
           ]
          },
          {
           "label": "instrumentalness",
           "values": [
            -0.0071774174131003,
            0.1587199685868995,
            -0.0069268134131003,
            0.0493688085868996,
            0.0032227845868996,
            -0.0071773444131003,
            -0.0068727174131003,
            -0.0071767514131003,
            -0.0070693484131003,
            -0.0027996614131003
           ]
          },
          {
           "label": "tempo",
           "values": [
            9.396799432358875,
            -6.469200567641124,
            -5.182300567641093,
            -10.042800567641107,
            13.045699432358871,
            -1.3230005676411023,
            -5.258300567641115,
            -3.638900567641088,
            32.2065994323589,
            -4.242300567641124
           ]
          }
         ],
         "domain": {
          "x": [
           0,
           1
          ],
          "y": [
           0,
           1
          ]
         },
         "name": "",
         "type": "parcoords"
        }
       ],
       "layout": {
        "legend": {
         "tracegroupgap": 0
        },
        "margin": {
         "t": 60
        },
        "template": {
         "data": {
          "bar": [
           {
            "error_x": {
             "color": "#2a3f5f"
            },
            "error_y": {
             "color": "#2a3f5f"
            },
            "marker": {
             "line": {
              "color": "#E5ECF6",
              "width": 0.5
             },
             "pattern": {
              "fillmode": "overlay",
              "size": 10,
              "solidity": 0.2
             }
            },
            "type": "bar"
           }
          ],
          "barpolar": [
           {
            "marker": {
             "line": {
              "color": "#E5ECF6",
              "width": 0.5
             },
             "pattern": {
              "fillmode": "overlay",
              "size": 10,
              "solidity": 0.2
             }
            },
            "type": "barpolar"
           }
          ],
          "carpet": [
           {
            "aaxis": {
             "endlinecolor": "#2a3f5f",
             "gridcolor": "white",
             "linecolor": "white",
             "minorgridcolor": "white",
             "startlinecolor": "#2a3f5f"
            },
            "baxis": {
             "endlinecolor": "#2a3f5f",
             "gridcolor": "white",
             "linecolor": "white",
             "minorgridcolor": "white",
             "startlinecolor": "#2a3f5f"
            },
            "type": "carpet"
           }
          ],
          "choropleth": [
           {
            "colorbar": {
             "outlinewidth": 0,
             "ticks": ""
            },
            "type": "choropleth"
           }
          ],
          "contour": [
           {
            "colorbar": {
             "outlinewidth": 0,
             "ticks": ""
            },
            "colorscale": [
             [
              0,
              "#0d0887"
             ],
             [
              0.1111111111111111,
              "#46039f"
             ],
             [
              0.2222222222222222,
              "#7201a8"
             ],
             [
              0.3333333333333333,
              "#9c179e"
             ],
             [
              0.4444444444444444,
              "#bd3786"
             ],
             [
              0.5555555555555556,
              "#d8576b"
             ],
             [
              0.6666666666666666,
              "#ed7953"
             ],
             [
              0.7777777777777778,
              "#fb9f3a"
             ],
             [
              0.8888888888888888,
              "#fdca26"
             ],
             [
              1,
              "#f0f921"
             ]
            ],
            "type": "contour"
           }
          ],
          "contourcarpet": [
           {
            "colorbar": {
             "outlinewidth": 0,
             "ticks": ""
            },
            "type": "contourcarpet"
           }
          ],
          "heatmap": [
           {
            "colorbar": {
             "outlinewidth": 0,
             "ticks": ""
            },
            "colorscale": [
             [
              0,
              "#0d0887"
             ],
             [
              0.1111111111111111,
              "#46039f"
             ],
             [
              0.2222222222222222,
              "#7201a8"
             ],
             [
              0.3333333333333333,
              "#9c179e"
             ],
             [
              0.4444444444444444,
              "#bd3786"
             ],
             [
              0.5555555555555556,
              "#d8576b"
             ],
             [
              0.6666666666666666,
              "#ed7953"
             ],
             [
              0.7777777777777778,
              "#fb9f3a"
             ],
             [
              0.8888888888888888,
              "#fdca26"
             ],
             [
              1,
              "#f0f921"
             ]
            ],
            "type": "heatmap"
           }
          ],
          "heatmapgl": [
           {
            "colorbar": {
             "outlinewidth": 0,
             "ticks": ""
            },
            "colorscale": [
             [
              0,
              "#0d0887"
             ],
             [
              0.1111111111111111,
              "#46039f"
             ],
             [
              0.2222222222222222,
              "#7201a8"
             ],
             [
              0.3333333333333333,
              "#9c179e"
             ],
             [
              0.4444444444444444,
              "#bd3786"
             ],
             [
              0.5555555555555556,
              "#d8576b"
             ],
             [
              0.6666666666666666,
              "#ed7953"
             ],
             [
              0.7777777777777778,
              "#fb9f3a"
             ],
             [
              0.8888888888888888,
              "#fdca26"
             ],
             [
              1,
              "#f0f921"
             ]
            ],
            "type": "heatmapgl"
           }
          ],
          "histogram": [
           {
            "marker": {
             "pattern": {
              "fillmode": "overlay",
              "size": 10,
              "solidity": 0.2
             }
            },
            "type": "histogram"
           }
          ],
          "histogram2d": [
           {
            "colorbar": {
             "outlinewidth": 0,
             "ticks": ""
            },
            "colorscale": [
             [
              0,
              "#0d0887"
             ],
             [
              0.1111111111111111,
              "#46039f"
             ],
             [
              0.2222222222222222,
              "#7201a8"
             ],
             [
              0.3333333333333333,
              "#9c179e"
             ],
             [
              0.4444444444444444,
              "#bd3786"
             ],
             [
              0.5555555555555556,
              "#d8576b"
             ],
             [
              0.6666666666666666,
              "#ed7953"
             ],
             [
              0.7777777777777778,
              "#fb9f3a"
             ],
             [
              0.8888888888888888,
              "#fdca26"
             ],
             [
              1,
              "#f0f921"
             ]
            ],
            "type": "histogram2d"
           }
          ],
          "histogram2dcontour": [
           {
            "colorbar": {
             "outlinewidth": 0,
             "ticks": ""
            },
            "colorscale": [
             [
              0,
              "#0d0887"
             ],
             [
              0.1111111111111111,
              "#46039f"
             ],
             [
              0.2222222222222222,
              "#7201a8"
             ],
             [
              0.3333333333333333,
              "#9c179e"
             ],
             [
              0.4444444444444444,
              "#bd3786"
             ],
             [
              0.5555555555555556,
              "#d8576b"
             ],
             [
              0.6666666666666666,
              "#ed7953"
             ],
             [
              0.7777777777777778,
              "#fb9f3a"
             ],
             [
              0.8888888888888888,
              "#fdca26"
             ],
             [
              1,
              "#f0f921"
             ]
            ],
            "type": "histogram2dcontour"
           }
          ],
          "mesh3d": [
           {
            "colorbar": {
             "outlinewidth": 0,
             "ticks": ""
            },
            "type": "mesh3d"
           }
          ],
          "parcoords": [
           {
            "line": {
             "colorbar": {
              "outlinewidth": 0,
              "ticks": ""
             }
            },
            "type": "parcoords"
           }
          ],
          "pie": [
           {
            "automargin": true,
            "type": "pie"
           }
          ],
          "scatter": [
           {
            "fillpattern": {
             "fillmode": "overlay",
             "size": 10,
             "solidity": 0.2
            },
            "type": "scatter"
           }
          ],
          "scatter3d": [
           {
            "line": {
             "colorbar": {
              "outlinewidth": 0,
              "ticks": ""
             }
            },
            "marker": {
             "colorbar": {
              "outlinewidth": 0,
              "ticks": ""
             }
            },
            "type": "scatter3d"
           }
          ],
          "scattercarpet": [
           {
            "marker": {
             "colorbar": {
              "outlinewidth": 0,
              "ticks": ""
             }
            },
            "type": "scattercarpet"
           }
          ],
          "scattergeo": [
           {
            "marker": {
             "colorbar": {
              "outlinewidth": 0,
              "ticks": ""
             }
            },
            "type": "scattergeo"
           }
          ],
          "scattergl": [
           {
            "marker": {
             "colorbar": {
              "outlinewidth": 0,
              "ticks": ""
             }
            },
            "type": "scattergl"
           }
          ],
          "scattermapbox": [
           {
            "marker": {
             "colorbar": {
              "outlinewidth": 0,
              "ticks": ""
             }
            },
            "type": "scattermapbox"
           }
          ],
          "scatterpolar": [
           {
            "marker": {
             "colorbar": {
              "outlinewidth": 0,
              "ticks": ""
             }
            },
            "type": "scatterpolar"
           }
          ],
          "scatterpolargl": [
           {
            "marker": {
             "colorbar": {
              "outlinewidth": 0,
              "ticks": ""
             }
            },
            "type": "scatterpolargl"
           }
          ],
          "scatterternary": [
           {
            "marker": {
             "colorbar": {
              "outlinewidth": 0,
              "ticks": ""
             }
            },
            "type": "scatterternary"
           }
          ],
          "surface": [
           {
            "colorbar": {
             "outlinewidth": 0,
             "ticks": ""
            },
            "colorscale": [
             [
              0,
              "#0d0887"
             ],
             [
              0.1111111111111111,
              "#46039f"
             ],
             [
              0.2222222222222222,
              "#7201a8"
             ],
             [
              0.3333333333333333,
              "#9c179e"
             ],
             [
              0.4444444444444444,
              "#bd3786"
             ],
             [
              0.5555555555555556,
              "#d8576b"
             ],
             [
              0.6666666666666666,
              "#ed7953"
             ],
             [
              0.7777777777777778,
              "#fb9f3a"
             ],
             [
              0.8888888888888888,
              "#fdca26"
             ],
             [
              1,
              "#f0f921"
             ]
            ],
            "type": "surface"
           }
          ],
          "table": [
           {
            "cells": {
             "fill": {
              "color": "#EBF0F8"
             },
             "line": {
              "color": "white"
             }
            },
            "header": {
             "fill": {
              "color": "#C8D4E3"
             },
             "line": {
              "color": "white"
             }
            },
            "type": "table"
           }
          ]
         },
         "layout": {
          "annotationdefaults": {
           "arrowcolor": "#2a3f5f",
           "arrowhead": 0,
           "arrowwidth": 1
          },
          "autotypenumbers": "strict",
          "coloraxis": {
           "colorbar": {
            "outlinewidth": 0,
            "ticks": ""
           }
          },
          "colorscale": {
           "diverging": [
            [
             0,
             "#8e0152"
            ],
            [
             0.1,
             "#c51b7d"
            ],
            [
             0.2,
             "#de77ae"
            ],
            [
             0.3,
             "#f1b6da"
            ],
            [
             0.4,
             "#fde0ef"
            ],
            [
             0.5,
             "#f7f7f7"
            ],
            [
             0.6,
             "#e6f5d0"
            ],
            [
             0.7,
             "#b8e186"
            ],
            [
             0.8,
             "#7fbc41"
            ],
            [
             0.9,
             "#4d9221"
            ],
            [
             1,
             "#276419"
            ]
           ],
           "sequential": [
            [
             0,
             "#0d0887"
            ],
            [
             0.1111111111111111,
             "#46039f"
            ],
            [
             0.2222222222222222,
             "#7201a8"
            ],
            [
             0.3333333333333333,
             "#9c179e"
            ],
            [
             0.4444444444444444,
             "#bd3786"
            ],
            [
             0.5555555555555556,
             "#d8576b"
            ],
            [
             0.6666666666666666,
             "#ed7953"
            ],
            [
             0.7777777777777778,
             "#fb9f3a"
            ],
            [
             0.8888888888888888,
             "#fdca26"
            ],
            [
             1,
             "#f0f921"
            ]
           ],
           "sequentialminus": [
            [
             0,
             "#0d0887"
            ],
            [
             0.1111111111111111,
             "#46039f"
            ],
            [
             0.2222222222222222,
             "#7201a8"
            ],
            [
             0.3333333333333333,
             "#9c179e"
            ],
            [
             0.4444444444444444,
             "#bd3786"
            ],
            [
             0.5555555555555556,
             "#d8576b"
            ],
            [
             0.6666666666666666,
             "#ed7953"
            ],
            [
             0.7777777777777778,
             "#fb9f3a"
            ],
            [
             0.8888888888888888,
             "#fdca26"
            ],
            [
             1,
             "#f0f921"
            ]
           ]
          },
          "colorway": [
           "#636efa",
           "#EF553B",
           "#00cc96",
           "#ab63fa",
           "#FFA15A",
           "#19d3f3",
           "#FF6692",
           "#B6E880",
           "#FF97FF",
           "#FECB52"
          ],
          "font": {
           "color": "#2a3f5f"
          },
          "geo": {
           "bgcolor": "white",
           "lakecolor": "white",
           "landcolor": "#E5ECF6",
           "showlakes": true,
           "showland": true,
           "subunitcolor": "white"
          },
          "hoverlabel": {
           "align": "left"
          },
          "hovermode": "closest",
          "mapbox": {
           "style": "light"
          },
          "paper_bgcolor": "white",
          "plot_bgcolor": "#E5ECF6",
          "polar": {
           "angularaxis": {
            "gridcolor": "white",
            "linecolor": "white",
            "ticks": ""
           },
           "bgcolor": "#E5ECF6",
           "radialaxis": {
            "gridcolor": "white",
            "linecolor": "white",
            "ticks": ""
           }
          },
          "scene": {
           "xaxis": {
            "backgroundcolor": "#E5ECF6",
            "gridcolor": "white",
            "gridwidth": 2,
            "linecolor": "white",
            "showbackground": true,
            "ticks": "",
            "zerolinecolor": "white"
           },
           "yaxis": {
            "backgroundcolor": "#E5ECF6",
            "gridcolor": "white",
            "gridwidth": 2,
            "linecolor": "white",
            "showbackground": true,
            "ticks": "",
            "zerolinecolor": "white"
           },
           "zaxis": {
            "backgroundcolor": "#E5ECF6",
            "gridcolor": "white",
            "gridwidth": 2,
            "linecolor": "white",
            "showbackground": true,
            "ticks": "",
            "zerolinecolor": "white"
           }
          },
          "shapedefaults": {
           "line": {
            "color": "#2a3f5f"
           }
          },
          "ternary": {
           "aaxis": {
            "gridcolor": "white",
            "linecolor": "white",
            "ticks": ""
           },
           "baxis": {
            "gridcolor": "white",
            "linecolor": "white",
            "ticks": ""
           },
           "bgcolor": "#E5ECF6",
           "caxis": {
            "gridcolor": "white",
            "linecolor": "white",
            "ticks": ""
           }
          },
          "title": {
           "x": 0.05
          },
          "xaxis": {
           "automargin": true,
           "gridcolor": "white",
           "linecolor": "white",
           "ticks": "",
           "title": {
            "standoff": 15
           },
           "zerolinecolor": "white",
           "zerolinewidth": 2
          },
          "yaxis": {
           "automargin": true,
           "gridcolor": "white",
           "linecolor": "white",
           "ticks": "",
           "title": {
            "standoff": 15
           },
           "zerolinecolor": "white",
           "zerolinewidth": 2
          }
         }
        }
       }
      }
     },
     "metadata": {},
     "output_type": "display_data"
    }
   ],
   "source": [
    "import plotly.express as px\n",
    "\n",
    "# color     : Values from this column are used to assign color to the poly lines.\n",
    "# dimensions: Values from these columns form the axes in the plot.\n",
    "fig = px.parallel_coordinates(audiodiff_df, dimensions=['danceability', 'loudness', 'valence','energy', 'speechiness', 'acousticness', 'instrumentalness', 'tempo'],\n",
    "                              color_continuous_scale=px.colors.diverging.Tealrose,\n",
    "                              color_continuous_midpoint=2)\n",
    "fig.show()"
   ]
  },
  {
   "cell_type": "code",
   "execution_count": 17,
   "metadata": {},
   "outputs": [
    {
     "data": {
      "text/html": [
       "<div>\n",
       "<style scoped>\n",
       "    .dataframe tbody tr th:only-of-type {\n",
       "        vertical-align: middle;\n",
       "    }\n",
       "\n",
       "    .dataframe tbody tr th {\n",
       "        vertical-align: top;\n",
       "    }\n",
       "\n",
       "    .dataframe thead th {\n",
       "        text-align: right;\n",
       "    }\n",
       "</style>\n",
       "<table border=\"1\" class=\"dataframe\">\n",
       "  <thead>\n",
       "    <tr style=\"text-align: right;\">\n",
       "      <th></th>\n",
       "      <th>Unnamed: 0</th>\n",
       "      <th>danceability</th>\n",
       "      <th>energy</th>\n",
       "      <th>key</th>\n",
       "      <th>loudness</th>\n",
       "      <th>mode</th>\n",
       "      <th>speechiness</th>\n",
       "      <th>acousticness</th>\n",
       "      <th>instrumentalness</th>\n",
       "      <th>liveness</th>\n",
       "      <th>...</th>\n",
       "      <th>analysis_url</th>\n",
       "      <th>duration_ms</th>\n",
       "      <th>time_signature</th>\n",
       "      <th>track_name</th>\n",
       "      <th>album_name</th>\n",
       "      <th>short_album_name</th>\n",
       "      <th>release_date</th>\n",
       "      <th>album_id</th>\n",
       "      <th>artist_id</th>\n",
       "      <th>artist</th>\n",
       "    </tr>\n",
       "  </thead>\n",
       "  <tbody>\n",
       "    <tr>\n",
       "      <th>0</th>\n",
       "      <td>0</td>\n",
       "      <td>0.779</td>\n",
       "      <td>0.640</td>\n",
       "      <td>7</td>\n",
       "      <td>-8.415</td>\n",
       "      <td>1</td>\n",
       "      <td>0.1590</td>\n",
       "      <td>0.000155</td>\n",
       "      <td>0.000770</td>\n",
       "      <td>0.101</td>\n",
       "      <td>...</td>\n",
       "      <td>https://api.spotify.com/v1/audio-analysis/4Tsm...</td>\n",
       "      <td>246960</td>\n",
       "      <td>4</td>\n",
       "      <td>Pon de Replay</td>\n",
       "      <td>Music Of The Sun</td>\n",
       "      <td>Music Of The Sun</td>\n",
       "      <td>2005-08-29</td>\n",
       "      <td>4FyGpObwABjn0o8Tdp7AZz</td>\n",
       "      <td>5pKCCKE2ajJHZ9KAiaK11H</td>\n",
       "      <td>[{'danceability': 0.779, 'energy': 0.64, 'key'...</td>\n",
       "    </tr>\n",
       "    <tr>\n",
       "      <th>1</th>\n",
       "      <td>12</td>\n",
       "      <td>0.778</td>\n",
       "      <td>0.737</td>\n",
       "      <td>7</td>\n",
       "      <td>-7.861</td>\n",
       "      <td>1</td>\n",
       "      <td>0.2510</td>\n",
       "      <td>0.000310</td>\n",
       "      <td>0.000000</td>\n",
       "      <td>0.276</td>\n",
       "      <td>...</td>\n",
       "      <td>https://api.spotify.com/v1/audio-analysis/1B4i...</td>\n",
       "      <td>217187</td>\n",
       "      <td>4</td>\n",
       "      <td>Pon De Replay - Remix</td>\n",
       "      <td>Music Of The Sun</td>\n",
       "      <td>Music Of The Sun</td>\n",
       "      <td>2005-08-29</td>\n",
       "      <td>4FyGpObwABjn0o8Tdp7AZz</td>\n",
       "      <td>5pKCCKE2ajJHZ9KAiaK11H</td>\n",
       "      <td>[{'danceability': 0.779, 'energy': 0.64, 'key'...</td>\n",
       "    </tr>\n",
       "    <tr>\n",
       "      <th>2</th>\n",
       "      <td>11</td>\n",
       "      <td>0.315</td>\n",
       "      <td>0.267</td>\n",
       "      <td>9</td>\n",
       "      <td>-11.355</td>\n",
       "      <td>1</td>\n",
       "      <td>0.0289</td>\n",
       "      <td>0.853000</td>\n",
       "      <td>0.000002</td>\n",
       "      <td>0.204</td>\n",
       "      <td>...</td>\n",
       "      <td>https://api.spotify.com/v1/audio-analysis/35Hi...</td>\n",
       "      <td>300587</td>\n",
       "      <td>3</td>\n",
       "      <td>Now I Know</td>\n",
       "      <td>Music Of The Sun</td>\n",
       "      <td>Music Of The Sun</td>\n",
       "      <td>2005-08-29</td>\n",
       "      <td>4FyGpObwABjn0o8Tdp7AZz</td>\n",
       "      <td>5pKCCKE2ajJHZ9KAiaK11H</td>\n",
       "      <td>[{'danceability': 0.779, 'energy': 0.64, 'key'...</td>\n",
       "    </tr>\n",
       "    <tr>\n",
       "      <th>3</th>\n",
       "      <td>9</td>\n",
       "      <td>0.751</td>\n",
       "      <td>0.822</td>\n",
       "      <td>1</td>\n",
       "      <td>-4.533</td>\n",
       "      <td>1</td>\n",
       "      <td>0.1640</td>\n",
       "      <td>0.001000</td>\n",
       "      <td>0.002200</td>\n",
       "      <td>0.259</td>\n",
       "      <td>...</td>\n",
       "      <td>https://api.spotify.com/v1/audio-analysis/5NH2...</td>\n",
       "      <td>189573</td>\n",
       "      <td>4</td>\n",
       "      <td>Rush</td>\n",
       "      <td>Music Of The Sun</td>\n",
       "      <td>Music Of The Sun</td>\n",
       "      <td>2005-08-29</td>\n",
       "      <td>4FyGpObwABjn0o8Tdp7AZz</td>\n",
       "      <td>5pKCCKE2ajJHZ9KAiaK11H</td>\n",
       "      <td>[{'danceability': 0.779, 'energy': 0.64, 'key'...</td>\n",
       "    </tr>\n",
       "    <tr>\n",
       "      <th>4</th>\n",
       "      <td>8</td>\n",
       "      <td>0.753</td>\n",
       "      <td>0.771</td>\n",
       "      <td>5</td>\n",
       "      <td>-5.833</td>\n",
       "      <td>0</td>\n",
       "      <td>0.1450</td>\n",
       "      <td>0.054100</td>\n",
       "      <td>0.000304</td>\n",
       "      <td>0.133</td>\n",
       "      <td>...</td>\n",
       "      <td>https://api.spotify.com/v1/audio-analysis/4tAq...</td>\n",
       "      <td>236400</td>\n",
       "      <td>4</td>\n",
       "      <td>Let Me</td>\n",
       "      <td>Music Of The Sun</td>\n",
       "      <td>Music Of The Sun</td>\n",
       "      <td>2005-08-29</td>\n",
       "      <td>4FyGpObwABjn0o8Tdp7AZz</td>\n",
       "      <td>5pKCCKE2ajJHZ9KAiaK11H</td>\n",
       "      <td>[{'danceability': 0.779, 'energy': 0.64, 'key'...</td>\n",
       "    </tr>\n",
       "    <tr>\n",
       "      <th>...</th>\n",
       "      <td>...</td>\n",
       "      <td>...</td>\n",
       "      <td>...</td>\n",
       "      <td>...</td>\n",
       "      <td>...</td>\n",
       "      <td>...</td>\n",
       "      <td>...</td>\n",
       "      <td>...</td>\n",
       "      <td>...</td>\n",
       "      <td>...</td>\n",
       "      <td>...</td>\n",
       "      <td>...</td>\n",
       "      <td>...</td>\n",
       "      <td>...</td>\n",
       "      <td>...</td>\n",
       "      <td>...</td>\n",
       "      <td>...</td>\n",
       "      <td>...</td>\n",
       "      <td>...</td>\n",
       "      <td>...</td>\n",
       "      <td>...</td>\n",
       "    </tr>\n",
       "    <tr>\n",
       "      <th>140</th>\n",
       "      <td>132</td>\n",
       "      <td>0.701</td>\n",
       "      <td>0.425</td>\n",
       "      <td>7</td>\n",
       "      <td>-10.965</td>\n",
       "      <td>1</td>\n",
       "      <td>0.3750</td>\n",
       "      <td>0.328000</td>\n",
       "      <td>0.130000</td>\n",
       "      <td>0.100</td>\n",
       "      <td>...</td>\n",
       "      <td>https://api.spotify.com/v1/audio-analysis/2Fxm...</td>\n",
       "      <td>194088</td>\n",
       "      <td>4</td>\n",
       "      <td>bad guy</td>\n",
       "      <td>WHEN WE ALL FALL ASLEEP, WHERE DO WE GO?</td>\n",
       "      <td>WHEN WE ALL FALL ASLEEP, WHERE DO WE GO?</td>\n",
       "      <td>2019-03-29</td>\n",
       "      <td>0S0KGZnfBGSIssfF54WSJh</td>\n",
       "      <td>6qqNVTkY8uBg9cP3Jd7DAH</td>\n",
       "      <td>[{'danceability': 0.779, 'energy': 0.64, 'key'...</td>\n",
       "    </tr>\n",
       "    <tr>\n",
       "      <th>141</th>\n",
       "      <td>131</td>\n",
       "      <td>0.000</td>\n",
       "      <td>0.278</td>\n",
       "      <td>1</td>\n",
       "      <td>-21.630</td>\n",
       "      <td>1</td>\n",
       "      <td>0.0000</td>\n",
       "      <td>0.768000</td>\n",
       "      <td>0.000000</td>\n",
       "      <td>0.669</td>\n",
       "      <td>...</td>\n",
       "      <td>https://api.spotify.com/v1/audio-analysis/0rQt...</td>\n",
       "      <td>13578</td>\n",
       "      <td>0</td>\n",
       "      <td>!!!!!!!</td>\n",
       "      <td>WHEN WE ALL FALL ASLEEP, WHERE DO WE GO?</td>\n",
       "      <td>WHEN WE ALL FALL ASLEEP, WHERE DO WE GO?</td>\n",
       "      <td>2019-03-29</td>\n",
       "      <td>0S0KGZnfBGSIssfF54WSJh</td>\n",
       "      <td>6qqNVTkY8uBg9cP3Jd7DAH</td>\n",
       "      <td>[{'danceability': 0.779, 'energy': 0.64, 'key'...</td>\n",
       "    </tr>\n",
       "    <tr>\n",
       "      <th>142</th>\n",
       "      <td>143</td>\n",
       "      <td>0.421</td>\n",
       "      <td>0.131</td>\n",
       "      <td>0</td>\n",
       "      <td>-18.435</td>\n",
       "      <td>1</td>\n",
       "      <td>0.0382</td>\n",
       "      <td>0.952000</td>\n",
       "      <td>0.004530</td>\n",
       "      <td>0.109</td>\n",
       "      <td>...</td>\n",
       "      <td>https://api.spotify.com/v1/audio-analysis/6CcJ...</td>\n",
       "      <td>291796</td>\n",
       "      <td>4</td>\n",
       "      <td>i love you</td>\n",
       "      <td>WHEN WE ALL FALL ASLEEP, WHERE DO WE GO?</td>\n",
       "      <td>WHEN WE ALL FALL ASLEEP, WHERE DO WE GO?</td>\n",
       "      <td>2019-03-29</td>\n",
       "      <td>0S0KGZnfBGSIssfF54WSJh</td>\n",
       "      <td>6qqNVTkY8uBg9cP3Jd7DAH</td>\n",
       "      <td>[{'danceability': 0.779, 'energy': 0.64, 'key'...</td>\n",
       "    </tr>\n",
       "    <tr>\n",
       "      <th>143</th>\n",
       "      <td>136</td>\n",
       "      <td>0.853</td>\n",
       "      <td>0.351</td>\n",
       "      <td>7</td>\n",
       "      <td>-10.198</td>\n",
       "      <td>1</td>\n",
       "      <td>0.2410</td>\n",
       "      <td>0.390000</td>\n",
       "      <td>0.000009</td>\n",
       "      <td>0.752</td>\n",
       "      <td>...</td>\n",
       "      <td>https://api.spotify.com/v1/audio-analysis/3Fj4...</td>\n",
       "      <td>221543</td>\n",
       "      <td>4</td>\n",
       "      <td>wish you were gay</td>\n",
       "      <td>WHEN WE ALL FALL ASLEEP, WHERE DO WE GO?</td>\n",
       "      <td>WHEN WE ALL FALL ASLEEP, WHERE DO WE GO?</td>\n",
       "      <td>2019-03-29</td>\n",
       "      <td>0S0KGZnfBGSIssfF54WSJh</td>\n",
       "      <td>6qqNVTkY8uBg9cP3Jd7DAH</td>\n",
       "      <td>[{'danceability': 0.779, 'energy': 0.64, 'key'...</td>\n",
       "    </tr>\n",
       "    <tr>\n",
       "      <th>144</th>\n",
       "      <td>144</td>\n",
       "      <td>0.153</td>\n",
       "      <td>0.138</td>\n",
       "      <td>6</td>\n",
       "      <td>-21.877</td>\n",
       "      <td>0</td>\n",
       "      <td>0.0503</td>\n",
       "      <td>0.837000</td>\n",
       "      <td>0.550000</td>\n",
       "      <td>0.254</td>\n",
       "      <td>...</td>\n",
       "      <td>https://api.spotify.com/v1/audio-analysis/3LgW...</td>\n",
       "      <td>119410</td>\n",
       "      <td>3</td>\n",
       "      <td>goodbye</td>\n",
       "      <td>WHEN WE ALL FALL ASLEEP, WHERE DO WE GO?</td>\n",
       "      <td>WHEN WE ALL FALL ASLEEP, WHERE DO WE GO?</td>\n",
       "      <td>2019-03-29</td>\n",
       "      <td>0S0KGZnfBGSIssfF54WSJh</td>\n",
       "      <td>6qqNVTkY8uBg9cP3Jd7DAH</td>\n",
       "      <td>[{'danceability': 0.779, 'energy': 0.64, 'key'...</td>\n",
       "    </tr>\n",
       "  </tbody>\n",
       "</table>\n",
       "<p>145 rows × 26 columns</p>\n",
       "</div>"
      ],
      "text/plain": [
       "     Unnamed: 0  danceability  energy  key  loudness  mode  speechiness  \\\n",
       "0             0         0.779   0.640    7    -8.415     1       0.1590   \n",
       "1            12         0.778   0.737    7    -7.861     1       0.2510   \n",
       "2            11         0.315   0.267    9   -11.355     1       0.0289   \n",
       "3             9         0.751   0.822    1    -4.533     1       0.1640   \n",
       "4             8         0.753   0.771    5    -5.833     0       0.1450   \n",
       "..          ...           ...     ...  ...       ...   ...          ...   \n",
       "140         132         0.701   0.425    7   -10.965     1       0.3750   \n",
       "141         131         0.000   0.278    1   -21.630     1       0.0000   \n",
       "142         143         0.421   0.131    0   -18.435     1       0.0382   \n",
       "143         136         0.853   0.351    7   -10.198     1       0.2410   \n",
       "144         144         0.153   0.138    6   -21.877     0       0.0503   \n",
       "\n",
       "     acousticness  instrumentalness  liveness  ...  \\\n",
       "0        0.000155          0.000770     0.101  ...   \n",
       "1        0.000310          0.000000     0.276  ...   \n",
       "2        0.853000          0.000002     0.204  ...   \n",
       "3        0.001000          0.002200     0.259  ...   \n",
       "4        0.054100          0.000304     0.133  ...   \n",
       "..            ...               ...       ...  ...   \n",
       "140      0.328000          0.130000     0.100  ...   \n",
       "141      0.768000          0.000000     0.669  ...   \n",
       "142      0.952000          0.004530     0.109  ...   \n",
       "143      0.390000          0.000009     0.752  ...   \n",
       "144      0.837000          0.550000     0.254  ...   \n",
       "\n",
       "                                          analysis_url  duration_ms  \\\n",
       "0    https://api.spotify.com/v1/audio-analysis/4Tsm...       246960   \n",
       "1    https://api.spotify.com/v1/audio-analysis/1B4i...       217187   \n",
       "2    https://api.spotify.com/v1/audio-analysis/35Hi...       300587   \n",
       "3    https://api.spotify.com/v1/audio-analysis/5NH2...       189573   \n",
       "4    https://api.spotify.com/v1/audio-analysis/4tAq...       236400   \n",
       "..                                                 ...          ...   \n",
       "140  https://api.spotify.com/v1/audio-analysis/2Fxm...       194088   \n",
       "141  https://api.spotify.com/v1/audio-analysis/0rQt...        13578   \n",
       "142  https://api.spotify.com/v1/audio-analysis/6CcJ...       291796   \n",
       "143  https://api.spotify.com/v1/audio-analysis/3Fj4...       221543   \n",
       "144  https://api.spotify.com/v1/audio-analysis/3LgW...       119410   \n",
       "\n",
       "    time_signature             track_name  \\\n",
       "0                4          Pon de Replay   \n",
       "1                4  Pon De Replay - Remix   \n",
       "2                3             Now I Know   \n",
       "3                4                   Rush   \n",
       "4                4                 Let Me   \n",
       "..             ...                    ...   \n",
       "140              4                bad guy   \n",
       "141              0                !!!!!!!   \n",
       "142              4             i love you   \n",
       "143              4      wish you were gay   \n",
       "144              3                goodbye   \n",
       "\n",
       "                                   album_name  \\\n",
       "0                            Music Of The Sun   \n",
       "1                            Music Of The Sun   \n",
       "2                            Music Of The Sun   \n",
       "3                            Music Of The Sun   \n",
       "4                            Music Of The Sun   \n",
       "..                                        ...   \n",
       "140  WHEN WE ALL FALL ASLEEP, WHERE DO WE GO?   \n",
       "141  WHEN WE ALL FALL ASLEEP, WHERE DO WE GO?   \n",
       "142  WHEN WE ALL FALL ASLEEP, WHERE DO WE GO?   \n",
       "143  WHEN WE ALL FALL ASLEEP, WHERE DO WE GO?   \n",
       "144  WHEN WE ALL FALL ASLEEP, WHERE DO WE GO?   \n",
       "\n",
       "                             short_album_name release_date  \\\n",
       "0                            Music Of The Sun   2005-08-29   \n",
       "1                            Music Of The Sun   2005-08-29   \n",
       "2                            Music Of The Sun   2005-08-29   \n",
       "3                            Music Of The Sun   2005-08-29   \n",
       "4                            Music Of The Sun   2005-08-29   \n",
       "..                                        ...          ...   \n",
       "140  WHEN WE ALL FALL ASLEEP, WHERE DO WE GO?   2019-03-29   \n",
       "141  WHEN WE ALL FALL ASLEEP, WHERE DO WE GO?   2019-03-29   \n",
       "142  WHEN WE ALL FALL ASLEEP, WHERE DO WE GO?   2019-03-29   \n",
       "143  WHEN WE ALL FALL ASLEEP, WHERE DO WE GO?   2019-03-29   \n",
       "144  WHEN WE ALL FALL ASLEEP, WHERE DO WE GO?   2019-03-29   \n",
       "\n",
       "                   album_id               artist_id  \\\n",
       "0    4FyGpObwABjn0o8Tdp7AZz  5pKCCKE2ajJHZ9KAiaK11H   \n",
       "1    4FyGpObwABjn0o8Tdp7AZz  5pKCCKE2ajJHZ9KAiaK11H   \n",
       "2    4FyGpObwABjn0o8Tdp7AZz  5pKCCKE2ajJHZ9KAiaK11H   \n",
       "3    4FyGpObwABjn0o8Tdp7AZz  5pKCCKE2ajJHZ9KAiaK11H   \n",
       "4    4FyGpObwABjn0o8Tdp7AZz  5pKCCKE2ajJHZ9KAiaK11H   \n",
       "..                      ...                     ...   \n",
       "140  0S0KGZnfBGSIssfF54WSJh  6qqNVTkY8uBg9cP3Jd7DAH   \n",
       "141  0S0KGZnfBGSIssfF54WSJh  6qqNVTkY8uBg9cP3Jd7DAH   \n",
       "142  0S0KGZnfBGSIssfF54WSJh  6qqNVTkY8uBg9cP3Jd7DAH   \n",
       "143  0S0KGZnfBGSIssfF54WSJh  6qqNVTkY8uBg9cP3Jd7DAH   \n",
       "144  0S0KGZnfBGSIssfF54WSJh  6qqNVTkY8uBg9cP3Jd7DAH   \n",
       "\n",
       "                                                artist  \n",
       "0    [{'danceability': 0.779, 'energy': 0.64, 'key'...  \n",
       "1    [{'danceability': 0.779, 'energy': 0.64, 'key'...  \n",
       "2    [{'danceability': 0.779, 'energy': 0.64, 'key'...  \n",
       "3    [{'danceability': 0.779, 'energy': 0.64, 'key'...  \n",
       "4    [{'danceability': 0.779, 'energy': 0.64, 'key'...  \n",
       "..                                                 ...  \n",
       "140  [{'danceability': 0.779, 'energy': 0.64, 'key'...  \n",
       "141  [{'danceability': 0.779, 'energy': 0.64, 'key'...  \n",
       "142  [{'danceability': 0.779, 'energy': 0.64, 'key'...  \n",
       "143  [{'danceability': 0.779, 'energy': 0.64, 'key'...  \n",
       "144  [{'danceability': 0.779, 'energy': 0.64, 'key'...  \n",
       "\n",
       "[145 rows x 26 columns]"
      ]
     },
     "execution_count": 17,
     "metadata": {},
     "output_type": "execute_result"
    }
   ],
   "source": [
    "pd.read_csv('/Users/tbyfield/Documents/artist_audio_df.csv')"
   ]
  },
  {
   "cell_type": "code",
   "execution_count": 18,
   "metadata": {},
   "outputs": [
    {
     "data": {
      "text/html": [
       "<div>\n",
       "<style scoped>\n",
       "    .dataframe tbody tr th:only-of-type {\n",
       "        vertical-align: middle;\n",
       "    }\n",
       "\n",
       "    .dataframe tbody tr th {\n",
       "        vertical-align: top;\n",
       "    }\n",
       "\n",
       "    .dataframe thead th {\n",
       "        text-align: right;\n",
       "    }\n",
       "</style>\n",
       "<table border=\"1\" class=\"dataframe\">\n",
       "  <thead>\n",
       "    <tr style=\"text-align: right;\">\n",
       "      <th></th>\n",
       "      <th>Unnamed: 0</th>\n",
       "      <th>Artist</th>\n",
       "      <th>danceability</th>\n",
       "      <th>energy</th>\n",
       "      <th>key</th>\n",
       "      <th>loudness</th>\n",
       "      <th>mode</th>\n",
       "      <th>speechiness</th>\n",
       "      <th>acousticness</th>\n",
       "      <th>instrumentalness</th>\n",
       "      <th>liveness</th>\n",
       "      <th>valence</th>\n",
       "      <th>tempo</th>\n",
       "      <th>type</th>\n",
       "      <th>id</th>\n",
       "    </tr>\n",
       "  </thead>\n",
       "  <tbody>\n",
       "    <tr>\n",
       "      <th>0</th>\n",
       "      <td>0</td>\n",
       "      <td>Drake</td>\n",
       "      <td>0.7140</td>\n",
       "      <td>0.5043</td>\n",
       "      <td>5.5</td>\n",
       "      <td>-8.0710</td>\n",
       "      <td>0.6</td>\n",
       "      <td>0.15914</td>\n",
       "      <td>0.067127</td>\n",
       "      <td>1.040079e-02</td>\n",
       "      <td>0.19114</td>\n",
       "      <td>0.29600</td>\n",
       "      <td>135.3875</td>\n",
       "      <td>duration_ms: 236414.4</td>\n",
       "      <td>time_signature: 3.9</td>\n",
       "    </tr>\n",
       "    <tr>\n",
       "      <th>1</th>\n",
       "      <td>1</td>\n",
       "      <td>Morgan Wallen</td>\n",
       "      <td>0.6025</td>\n",
       "      <td>0.7357</td>\n",
       "      <td>6.9</td>\n",
       "      <td>-5.1964</td>\n",
       "      <td>0.7</td>\n",
       "      <td>0.03228</td>\n",
       "      <td>0.328854</td>\n",
       "      <td>1.086530e-04</td>\n",
       "      <td>0.21400</td>\n",
       "      <td>0.54590</td>\n",
       "      <td>154.5484</td>\n",
       "      <td>duration_ms: 182738.6</td>\n",
       "      <td>time_signature: 3.9</td>\n",
       "    </tr>\n",
       "    <tr>\n",
       "      <th>2</th>\n",
       "      <td>2</td>\n",
       "      <td>Lil Baby</td>\n",
       "      <td>0.8412</td>\n",
       "      <td>0.5211</td>\n",
       "      <td>5.5</td>\n",
       "      <td>-7.3129</td>\n",
       "      <td>0.0</td>\n",
       "      <td>0.29511</td>\n",
       "      <td>0.109874</td>\n",
       "      <td>6.570000e-07</td>\n",
       "      <td>0.15590</td>\n",
       "      <td>0.36740</td>\n",
       "      <td>121.0188</td>\n",
       "      <td>duration_ms: 165162.4</td>\n",
       "      <td>time_signature: 3.9</td>\n",
       "    </tr>\n",
       "    <tr>\n",
       "      <th>3</th>\n",
       "      <td>3</td>\n",
       "      <td>Taylor Swift</td>\n",
       "      <td>0.6390</td>\n",
       "      <td>0.6066</td>\n",
       "      <td>6.0</td>\n",
       "      <td>-7.0623</td>\n",
       "      <td>0.8</td>\n",
       "      <td>0.06116</td>\n",
       "      <td>0.223530</td>\n",
       "      <td>1.457570e-04</td>\n",
       "      <td>0.18957</td>\n",
       "      <td>0.34615</td>\n",
       "      <td>118.1842</td>\n",
       "      <td>duration_ms: 230222.6</td>\n",
       "      <td>time_signature: 3.9</td>\n",
       "    </tr>\n",
       "    <tr>\n",
       "      <th>4</th>\n",
       "      <td>4</td>\n",
       "      <td>Doja Cat</td>\n",
       "      <td>0.7866</td>\n",
       "      <td>0.6562</td>\n",
       "      <td>7.0</td>\n",
       "      <td>-5.5332</td>\n",
       "      <td>0.6</td>\n",
       "      <td>0.12008</td>\n",
       "      <td>0.213890</td>\n",
       "      <td>4.378340e-03</td>\n",
       "      <td>0.16585</td>\n",
       "      <td>0.59500</td>\n",
       "      <td>118.0995</td>\n",
       "      <td>duration_ms: 184357.4</td>\n",
       "      <td>time_signature: 4.0</td>\n",
       "    </tr>\n",
       "    <tr>\n",
       "      <th>5</th>\n",
       "      <td>5</td>\n",
       "      <td>Luke Combs</td>\n",
       "      <td>0.5541</td>\n",
       "      <td>0.6833</td>\n",
       "      <td>5.8</td>\n",
       "      <td>-5.5259</td>\n",
       "      <td>1.0</td>\n",
       "      <td>0.03246</td>\n",
       "      <td>0.183400</td>\n",
       "      <td>1.250000e-06</td>\n",
       "      <td>0.17208</td>\n",
       "      <td>0.50940</td>\n",
       "      <td>118.7029</td>\n",
       "      <td>duration_ms: 215573.3</td>\n",
       "      <td>time_signature: 4.0</td>\n",
       "    </tr>\n",
       "    <tr>\n",
       "      <th>6</th>\n",
       "      <td>6</td>\n",
       "      <td>Post Malone</td>\n",
       "      <td>0.6637</td>\n",
       "      <td>0.6382</td>\n",
       "      <td>5.0</td>\n",
       "      <td>-5.2045</td>\n",
       "      <td>0.7</td>\n",
       "      <td>0.06505</td>\n",
       "      <td>0.204436</td>\n",
       "      <td>2.511880e-04</td>\n",
       "      <td>0.14261</td>\n",
       "      <td>0.47910</td>\n",
       "      <td>117.1595</td>\n",
       "      <td>duration_ms: 186688.7</td>\n",
       "      <td>time_signature: 4.0</td>\n",
       "    </tr>\n",
       "    <tr>\n",
       "      <th>7</th>\n",
       "      <td>7</td>\n",
       "      <td>DaBaby</td>\n",
       "      <td>0.8097</td>\n",
       "      <td>0.6697</td>\n",
       "      <td>4.6</td>\n",
       "      <td>-5.6906</td>\n",
       "      <td>0.7</td>\n",
       "      <td>0.30026</td>\n",
       "      <td>0.098008</td>\n",
       "      <td>5.840000e-07</td>\n",
       "      <td>0.15054</td>\n",
       "      <td>0.60060</td>\n",
       "      <td>131.7386</td>\n",
       "      <td>duration_ms: 143969.4</td>\n",
       "      <td>time_signature: 4.0</td>\n",
       "    </tr>\n",
       "    <tr>\n",
       "      <th>8</th>\n",
       "      <td>8</td>\n",
       "      <td>SZA</td>\n",
       "      <td>0.5969</td>\n",
       "      <td>0.5718</td>\n",
       "      <td>5.2</td>\n",
       "      <td>-7.5601</td>\n",
       "      <td>0.5</td>\n",
       "      <td>0.06841</td>\n",
       "      <td>0.332330</td>\n",
       "      <td>5.654681e-02</td>\n",
       "      <td>0.21059</td>\n",
       "      <td>0.42910</td>\n",
       "      <td>112.2990</td>\n",
       "      <td>duration_ms: 189048.1</td>\n",
       "      <td>time_signature: 3.9</td>\n",
       "    </tr>\n",
       "    <tr>\n",
       "      <th>9</th>\n",
       "      <td>9</td>\n",
       "      <td>Billie Eilish</td>\n",
       "      <td>0.4901</td>\n",
       "      <td>0.2633</td>\n",
       "      <td>4.8</td>\n",
       "      <td>-12.9086</td>\n",
       "      <td>0.6</td>\n",
       "      <td>0.08627</td>\n",
       "      <td>0.814000</td>\n",
       "      <td>1.658980e-01</td>\n",
       "      <td>0.11592</td>\n",
       "      <td>0.23220</td>\n",
       "      <td>115.8726</td>\n",
       "      <td>duration_ms: 215307.5</td>\n",
       "      <td>time_signature: 3.8</td>\n",
       "    </tr>\n",
       "  </tbody>\n",
       "</table>\n",
       "</div>"
      ],
      "text/plain": [
       "   Unnamed: 0         Artist  danceability  energy  key  loudness  mode  \\\n",
       "0           0          Drake        0.7140  0.5043  5.5   -8.0710   0.6   \n",
       "1           1  Morgan Wallen        0.6025  0.7357  6.9   -5.1964   0.7   \n",
       "2           2       Lil Baby        0.8412  0.5211  5.5   -7.3129   0.0   \n",
       "3           3   Taylor Swift        0.6390  0.6066  6.0   -7.0623   0.8   \n",
       "4           4       Doja Cat        0.7866  0.6562  7.0   -5.5332   0.6   \n",
       "5           5     Luke Combs        0.5541  0.6833  5.8   -5.5259   1.0   \n",
       "6           6    Post Malone        0.6637  0.6382  5.0   -5.2045   0.7   \n",
       "7           7         DaBaby        0.8097  0.6697  4.6   -5.6906   0.7   \n",
       "8           8            SZA        0.5969  0.5718  5.2   -7.5601   0.5   \n",
       "9           9  Billie Eilish        0.4901  0.2633  4.8  -12.9086   0.6   \n",
       "\n",
       "   speechiness  acousticness  instrumentalness  liveness  valence     tempo  \\\n",
       "0      0.15914      0.067127      1.040079e-02   0.19114  0.29600  135.3875   \n",
       "1      0.03228      0.328854      1.086530e-04   0.21400  0.54590  154.5484   \n",
       "2      0.29511      0.109874      6.570000e-07   0.15590  0.36740  121.0188   \n",
       "3      0.06116      0.223530      1.457570e-04   0.18957  0.34615  118.1842   \n",
       "4      0.12008      0.213890      4.378340e-03   0.16585  0.59500  118.0995   \n",
       "5      0.03246      0.183400      1.250000e-06   0.17208  0.50940  118.7029   \n",
       "6      0.06505      0.204436      2.511880e-04   0.14261  0.47910  117.1595   \n",
       "7      0.30026      0.098008      5.840000e-07   0.15054  0.60060  131.7386   \n",
       "8      0.06841      0.332330      5.654681e-02   0.21059  0.42910  112.2990   \n",
       "9      0.08627      0.814000      1.658980e-01   0.11592  0.23220  115.8726   \n",
       "\n",
       "                     type                    id  \n",
       "0   duration_ms: 236414.4   time_signature: 3.9  \n",
       "1   duration_ms: 182738.6   time_signature: 3.9  \n",
       "2   duration_ms: 165162.4   time_signature: 3.9  \n",
       "3   duration_ms: 230222.6   time_signature: 3.9  \n",
       "4   duration_ms: 184357.4   time_signature: 4.0  \n",
       "5   duration_ms: 215573.3   time_signature: 4.0  \n",
       "6   duration_ms: 186688.7   time_signature: 4.0  \n",
       "7   duration_ms: 143969.4   time_signature: 4.0  \n",
       "8   duration_ms: 189048.1   time_signature: 3.9  \n",
       "9   duration_ms: 215307.5   time_signature: 3.8  "
      ]
     },
     "execution_count": 18,
     "metadata": {},
     "output_type": "execute_result"
    }
   ],
   "source": [
    "pd.read_csv('/Users/tbyfield/Documents/avg_features_df.csv')"
   ]
  }
 ],
 "metadata": {
  "kernelspec": {
   "display_name": "base",
   "language": "python",
   "name": "python3"
  },
  "language_info": {
   "codemirror_mode": {
    "name": "ipython",
    "version": 3
   },
   "file_extension": ".py",
   "mimetype": "text/x-python",
   "name": "python",
   "nbconvert_exporter": "python",
   "pygments_lexer": "ipython3",
   "version": "3.9.13"
  },
  "orig_nbformat": 4,
  "vscode": {
   "interpreter": {
    "hash": "118720caf49f88a91dd525387f4c2ee3dd7f80f4f2af8081cc5961d9caa542af"
   }
  }
 },
 "nbformat": 4,
 "nbformat_minor": 2
}

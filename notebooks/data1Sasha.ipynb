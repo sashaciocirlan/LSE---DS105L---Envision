{
 "cells": [
  {
   "cell_type": "code",
   "execution_count": 1,
   "metadata": {},
   "outputs": [
    {
     "name": "stdout",
     "output_type": "stream",
     "text": [
      "Most played song genres from 5 years ago:\n",
      "- Top Lists\n",
      "- Hip-Hop\n",
      "- Pop\n",
      "- Country\n",
      "- Latin\n",
      "- Rock\n",
      "- Summer\n",
      "- Workout\n",
      "- R&B\n",
      "- Dance/Electronic\n"
     ]
    }
   ],
   "source": [
    "import requests\n",
    "import base64\n",
    "import json\n",
    "from datetime import datetime, timedelta\n",
    "\n",
    "# Replace these with your own credentials\n",
    "client_id = 'XXXXX",
    "client_secret = 'XXXXXXX",
    "\n",
    "# Function to get the access token\n",
    "def get_access_token(client_id, client_secret):\n",
    "    auth_url = 'https://accounts.spotify.com/api/token'\n",
    "    auth_header = base64.b64encode(f'{client_id}:{client_secret}'.encode('utf-8')).decode('utf-8')\n",
    "    headers = {'Authorization': f'Basic {auth_header}'}\n",
    "    data = {'grant_type': 'client_credentials'}\n",
    "\n",
    "    response = requests.post(auth_url, headers=headers, data=data)\n",
    "    if response.status_code == 200:\n",
    "        return response.json()['access_token']\n",
    "    else:\n",
    "        raise Exception(f'Failed to get access token. Status code: {response.status_code}')\n",
    "\n",
    "# Function to get the most played song genres from 5 years ago\n",
    "def get_most_played_genres(access_token):\n",
    "    api_url = 'https://api.spotify.com/v1/browse/categories'\n",
    "    headers = {'Authorization': f'Bearer {access_token}'}\n",
    "    five_years_ago = datetime.now() - timedelta(days=5*365)\n",
    "    params = {'time_range': 'long_term', 'limit': 10, 'offset': 0, 'country': 'US'}\n",
    "\n",
    "    response = requests.get(api_url, headers=headers, params=params)\n",
    "    if response.status_code == 200:\n",
    "        categories = response.json()['categories']['items']\n",
    "        most_played_genres = [category['name'] for category in categories]\n",
    "        return most_played_genres\n",
    "    else:\n",
    "        raise Exception(f'Failed to get most played song genres. Status code: {response.status_code}')\n",
    "\n",
    "# Main program\n",
    "if __name__ == \"__main__\":\n",
    "    access_token = get_access_token(client_id, client_secret)\n",
    "    most_played_genres = get_most_played_genres(access_token)\n",
    "    print(\"Most played song genres from 5 years ago:\")\n",
    "    for genre in most_played_genres:\n",
    "        print(f\"- {genre}\")\n"
   ]
  },
  {
   "cell_type": "code",
   "execution_count": 2,
   "metadata": {},
   "outputs": [
    {
     "name": "stdout",
     "output_type": "stream",
     "text": [
      "Top 20 artists:\n",
      "1. Linkin Park (Popularity: 87)\n",
      "2. Queen (Popularity: 86)\n",
      "3. Metallica (Popularity: 84)\n",
      "4. Red Hot Chili Peppers (Popularity: 84)\n",
      "5. A$AP Rocky (Popularity: 83)\n",
      "6. AC/DC (Popularity: 83)\n",
      "7. Nirvana (Popularity: 83)\n",
      "8. Fleetwood Mac (Popularity: 82)\n",
      "9. Guns N' Roses (Popularity: 81)\n",
      "10. Foo Fighters (Popularity: 80)\n",
      "11. Maná (Popularity: 79)\n",
      "12. Led Zeppelin (Popularity: 79)\n",
      "13. Bon Jovi (Popularity: 79)\n",
      "14. Aerosmith (Popularity: 78)\n",
      "15. Soda Stereo (Popularity: 76)\n",
      "16. Los Enanitos Verdes (Popularity: 74)\n",
      "17. Jay Rock (Popularity: 74)\n",
      "18. Van Halen (Popularity: 74)\n",
      "19. PnB Rock (Popularity: 71)\n",
      "20. Survivor (Popularity: 69)\n"
     ]
    }
   ],
   "source": [
    "\n",
    "# Function to get the access token\n",
    "def get_access_token(client_id, client_secret):\n",
    "    auth_url = 'https://accounts.spotify.com/api/token'\n",
    "    auth_header = base64.b64encode(f'{client_id}:{client_secret}'.encode('utf-8')).decode('utf-8')\n",
    "    headers = {'Authorization': f'Basic {auth_header}'}\n",
    "    data = {'grant_type': 'client_credentials'}\n",
    "\n",
    "    response = requests.post(auth_url, headers=headers, data=data)\n",
    "    if response.status_code == 200:\n",
    "        return response.json()['access_token']\n",
    "    else:\n",
    "        raise Exception(f'Failed to get access token. Status code: {response.status_code}')\n",
    "# Function to search for artists\n",
    "def search_artists(access_token, query, limit=50):\n",
    "    api_url = 'https://api.spotify.com/v1/search'\n",
    "    headers = {'Authorization': f'Bearer {access_token}'}\n",
    "    params = {'q': query, 'type': 'artist', 'limit': limit}\n",
    "\n",
    "    response = requests.get(api_url, headers=headers, params=params)\n",
    "    if response.status_code == 200:\n",
    "        artists = response.json()['artists']['items']\n",
    "        return artists\n",
    "    else:\n",
    "        raise Exception(f'Failed to search for artists. Status code: {response.status_code}')\n",
    "\n",
    "# Main program\n",
    "if __name__ == \"__main__\":\n",
    "    access_token = get_access_token(client_id, client_secret)\n",
    "\n",
    "    # Search for artists (replace 'rock' with any genre or query)\n",
    "    artists = search_artists(access_token, 'rock')\n",
    "\n",
    "    # Get artist names and popularity scores\n",
    "    artist_popularity = [(artist['name'], artist['popularity']) for artist in artists]\n",
    "\n",
    "    # Sort artists by popularity and get the top 20\n",
    "    top_20_artists = sorted(artist_popularity, key=lambda x: x[1], reverse=True)[:20]\n",
    "\n",
    "    # Print the top 20 artists\n",
    "    print(\"Top 20 artists:\")\n",
    "    for idx, (name, popularity) in enumerate(top_20_artists, 1):\n",
    "        print(f\"{idx}. {name} (Popularity: {popularity})\")\n"
   ]
  },
  {
   "cell_type": "code",
   "execution_count": 3,
   "metadata": {},
   "outputs": [
    {
     "name": "stdout",
     "output_type": "stream",
     "text": [
      "                   Artist  Popularity\n",
      "0             Linkin Park          87\n",
      "1                   Queen          86\n",
      "2               Metallica          84\n",
      "3   Red Hot Chili Peppers          84\n",
      "4              A$AP Rocky          83\n",
      "5                   AC/DC          83\n",
      "6                 Nirvana          83\n",
      "7           Fleetwood Mac          82\n",
      "8           Guns N' Roses          81\n",
      "9            Foo Fighters          80\n",
      "10                   Maná          79\n",
      "11           Led Zeppelin          79\n",
      "12               Bon Jovi          79\n",
      "13              Aerosmith          78\n",
      "14            Soda Stereo          76\n",
      "15    Los Enanitos Verdes          74\n",
      "16               Jay Rock          74\n",
      "17              Van Halen          74\n",
      "18               PnB Rock          71\n",
      "19               Survivor          69\n"
     ]
    }
   ],
   "source": [
    "import pandas as pd\n",
    "\n",
    "# Create a DataFrame from the top 20 artists list\n",
    "top_20_artists_df = pd.DataFrame(top_20_artists, columns=['Artist', 'Popularity'])\n",
    "\n",
    "# Print the DataFrame\n",
    "print(top_20_artists_df)\n"
   ]
  },
  {
   "cell_type": "code",
   "execution_count": null,
   "metadata": {},
   "outputs": [
    {
     "name": "stdout",
     "output_type": "stream",
     "text": [
      "Top 20 rock artists:\n",
      "                   Artist  Popularity  Followers\n",
      "0             Linkin Park          87   22971373\n",
      "1                   Queen          86   45849897\n",
      "2               Metallica          84   24164890\n",
      "3   Red Hot Chili Peppers          84   19377055\n",
      "4              A$AP Rocky          83   12004031\n",
      "5                   AC/DC          83   26008062\n",
      "6                 Nirvana          83   17207435\n",
      "7           Fleetwood Mac          82    9564843\n",
      "8           Guns N' Roses          81   28147015\n",
      "9            Foo Fighters          80   10771113\n",
      "10                   Maná          79    9455035\n",
      "11           Led Zeppelin          79   13187900\n",
      "12               Bon Jovi          79   11985986\n",
      "13              Aerosmith          78   13269956\n",
      "14            Soda Stereo          76    7606962\n",
      "15    Los Enanitos Verdes          74    3539191\n",
      "16               Jay Rock          74    1375499\n",
      "17              Van Halen          74    5308553\n",
      "18               PnB Rock          71    3750809\n",
      "19               Survivor          69     959588\n"
     ]
    }
   ],
   "source": [
    "\n",
    "# Main program\n",
    "if __name__ == \"__main__\":\n",
    "    access_token = get_access_token(client_id, client_secret)\n",
    "\n",
    "    # Search for rock artists\n",
    "    rock_artists = search_artists(access_token, 'rock', limit=50)\n",
    "\n",
    "    # Get artist names, popularity scores, and follower counts\n",
    "    artist_data = [(artist['name'], artist['popularity'], artist['followers']['total']) for artist in rock_artists]\n",
    "\n",
    "    # Sort artists by popularity and get the top 10\n",
    "    top_20_rock_artists = sorted(artist_data, key=lambda x: x[1], reverse=True)[:20]\n",
    "\n",
    "    # Create a DataFrame with the top 10 artists, their popularity, and follower counts\n",
    "    top_20_rock_artists_df = pd.DataFrame(top_20_rock_artists, columns=['Artist', 'Popularity', 'Followers'])\n",
    "\n",
    "    # Print the DataFrame\n",
    "    print(\"Top 20 rock artists:\")\n",
    "    print(top_20_rock_artists_df)\n"
   ]
  },
  {
   "cell_type": "code",
   "execution_count": null,
   "metadata": {},
   "outputs": [
    {
     "data": {
      "image/png": "[encoded data removed]",
      "text/plain": [
       "<Figure size 432x288 with 1 Axes>"
      ]
     },
     "metadata": {
      "needs_background": "light"
     },
     "output_type": "display_data"
    }
   ],
   "source": [
    "import numpy as np\n",
    "import matplotlib.pyplot as plt\n",
    "\n",
    "# Create a scatter plot using the DataFrame columns\n",
    "plt.scatter(top_20_rock_artists_df['Followers'], top_20_rock_artists_df['Popularity'])\n",
    "\n",
    "# Calculate the trend line\n",
    "z = np.polyfit(top_20_rock_artists_df['Followers'], top_20_rock_artists_df['Popularity'], 1)\n",
    "p = np.poly1d(z)\n",
    "\n",
    "# Plot the trend line\n",
    "plt.plot(top_20_rock_artists_df['Followers'], p(top_20_rock_artists_df['Followers']), \"r--\")\n",
    "\n",
    "# Add labels and title to the plot\n",
    "plt.xlabel('Followers')\n",
    "plt.ylabel('Popularity')\n",
    "plt.title('Followers vs Popularity for Top 20 Rock Artists')\n",
    "\n",
    "# Display the plot\n",
    "plt.show()\n"
   ]
  },
  {
   "cell_type": "code",
   "execution_count": null,
   "metadata": {},
   "outputs": [
    {
     "ename": "ValueError",
     "evalue": "too many values to unpack (expected 2)",
     "output_type": "error",
     "traceback": [
      "\u001b[0;31m---------------------------------------------------------------------------\u001b[0m",
      "\u001b[0;31mValueError\u001b[0m                                Traceback (most recent call last)",
      "\u001b[0;32m<ipython-input-62-1d5d2b05c572>\u001b[0m in \u001b[0;36m<module>\u001b[0;34m\u001b[0m\n\u001b[1;32m     22\u001b[0m     \u001b[0;31m# Get artist names, popularity scores, and follower counts from 3 years ago\u001b[0m\u001b[0;34m\u001b[0m\u001b[0;34m\u001b[0m\u001b[0;34m\u001b[0m\u001b[0m\n\u001b[1;32m     23\u001b[0m     \u001b[0martist_data\u001b[0m \u001b[0;34m=\u001b[0m \u001b[0;34m[\u001b[0m\u001b[0;34m]\u001b[0m\u001b[0;34m\u001b[0m\u001b[0;34m\u001b[0m\u001b[0m\n\u001b[0;32m---> 24\u001b[0;31m     \u001b[0;32mfor\u001b[0m \u001b[0martist_name\u001b[0m\u001b[0;34m,\u001b[0m \u001b[0martist_popularity\u001b[0m \u001b[0;32min\u001b[0m \u001b[0mtop_20_rock_artists\u001b[0m\u001b[0;34m:\u001b[0m\u001b[0;34m\u001b[0m\u001b[0;34m\u001b[0m\u001b[0m\n\u001b[0m\u001b[1;32m     25\u001b[0m         \u001b[0;32mfor\u001b[0m \u001b[0martist\u001b[0m \u001b[0;32min\u001b[0m \u001b[0mrock_artists\u001b[0m\u001b[0;34m:\u001b[0m\u001b[0;34m\u001b[0m\u001b[0;34m\u001b[0m\u001b[0m\n\u001b[1;32m     26\u001b[0m             \u001b[0;32mif\u001b[0m \u001b[0martist_name\u001b[0m \u001b[0;34m==\u001b[0m \u001b[0martist\u001b[0m\u001b[0;34m[\u001b[0m\u001b[0;34m'name'\u001b[0m\u001b[0;34m]\u001b[0m\u001b[0;34m:\u001b[0m\u001b[0;34m\u001b[0m\u001b[0;34m\u001b[0m\u001b[0m\n",
      "\u001b[0;31mValueError\u001b[0m: too many values to unpack (expected 2)"
     ]
    }
   ],
   "source": [
    "# Function to get the artist object\n",
    "def get_artist_object(access_token, artist_id):\n",
    "    api_url = f'https://api.spotify.com/v1/artists/{artist_id}'\n",
    "    headers = {'Authorization': f'Bearer {access_token}'}\n",
    "    before_date = (datetime.now() - timedelta(days=3*365)).strftime('%Y-%m-%d')\n",
    "    params = {'before': before_date}\n",
    "\n",
    "    response = requests.get(api_url, headers=headers, params=params)\n",
    "    if response.status_code == 200:\n",
    "        artist_object = response.json()\n",
    "        return artist_object\n",
    "    else:\n",
    "        raise Exception(f'Failed to get artist object. Status code: {response.status_code}')\n",
    "\n",
    "# Main program\n",
    "if __name__ == \"__main__\":\n",
    "    access_token = get_access_token(client_id, client_secret)\n",
    "\n",
    "    # Search for rock artists\n",
    "    rock_artists = search_artists(access_token, 'rock', limit=50)\n",
    "\n",
    "    # Get artist names, popularity scores, and follower counts from 3 years ago\n",
    "    artist_data = []\n",
    "    for artist_name, artist_popularity in top_20_rock_artists:\n",
    "        for artist in rock_artists:\n",
    "            if artist_name == artist['name']:\n",
    "                artist_id = artist['id']\n",
    "                break\n",
    "        artist_object = get_artist_object(access_token, artist_id)\n",
    "        artist_followers = artist_object['followers']['total']\n",
    "        artist_data.append((artist_name, artist_popularity, artist_followers))\n",
    "\n",
    "    # Sort artists by popularity and get the top 10\n",
    "    top_20_rock_artists_followers = sorted(artist_data, key=lambda x: x[1], reverse=True)[:20]\n",
    "\n",
    "    # Create a DataFrame with the top 10 artists, their popularity, and follower counts\n",
    "    top_20_rock_artists_followers_df = pd.DataFrame(top_20_rock_artists_followers, columns=['Artist', 'Popularity', 'Followers from 3 Years Ago'])\n",
    "\n",
    "    # Print the DataFrame\n",
    "    print(\"Top 20 rock artists with follower count from 3 years ago:\")\n",
    "    print(top_20_rock_artists_followers_df)\n"
   ]
  }
 ],
 "metadata": {
  "kernelspec": {
   "display_name": "base",
   "language": "python",
   "name": "python3"
  },
  "language_info": {
   "codemirror_mode": {
    "name": "ipython",
    "version": 3
   },
   "file_extension": ".py",
   "mimetype": "text/x-python",
   "name": "python",
   "nbconvert_exporter": "python",
   "pygments_lexer": "ipython3",
   "version": "3.8.5"
  },
  "orig_nbformat": 4,
  "vscode": {
   "interpreter": {
    "hash": "40d3a090f54c6569ab1632332b64b2c03c39dcf918b08424e98f38b5ae0af88f"
   }
  }
 },
 "nbformat": 4,
 "nbformat_minor": 2
}

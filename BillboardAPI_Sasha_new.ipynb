{
 "cells": [
  {
   "cell_type": "code",
   "execution_count": 2,
   "metadata": {},
   "outputs": [
    {
     "name": "stdout",
     "output_type": "stream",
     "text": [
      "                Artist  WeeksInTop100\n",
      "42       Morgan Wallen            225\n",
      "10                 SZA            145\n",
      "61          Luke Combs             61\n",
      "7         Taylor Swift             54\n",
      "19   Drake & 21 Savage             53\n",
      "100           Lil Baby             47\n",
      "60       Lainey Wilson             35\n",
      "38          Zach Bryan             35\n",
      "47        Lil Uzi Vert             27\n",
      "54    Bailey Zimmerman             26\n"
     ]
    }
   ],
   "source": [
    "import datetime\n",
    "import billboard\n",
    "import pandas as pd\n",
    "from collections import defaultdict\n",
    "\n",
    "# Initiate the dictionary to store artist data\n",
    "artist_data = defaultdict(int)\n",
    "\n",
    "# Set the date for 5 years ago\n",
    "date = datetime.datetime.now() - datetime.timedelta(weeks=20)\n",
    "\n",
    "# Loop over each week for the past 5 years\n",
    "while date < datetime.datetime.now():\n",
    "    # Fetch the top 100 songs for this week\n",
    "    chart = billboard.ChartData('hot-100', date=date.strftime('%Y-%m-%d'))\n",
    "\n",
    "    # Loop over each song in the chart\n",
    "    for song in chart:\n",
    "        # Loop over each artist for the song (songs can have multiple artists)\n",
    "        for artist in song.artist.split(' Featuring '):\n",
    "            # Increment the number of weeks this artist has been in the top 100\n",
    "            artist_data[artist] += 1\n",
    "\n",
    "    # Increment the date by one week\n",
    "    date += datetime.timedelta(weeks=1)\n",
    "\n",
    "# Convert the artist data into a DataFrame\n",
    "df = pd.DataFrame(list(artist_data.items()), columns=['Artist', 'WeeksInTop100'])\n",
    "\n",
    "# Sort the DataFrame by the number of weeks in the top 100\n",
    "df = df.sort_values('Weeks In Top 100', ascending=False)\n",
    "\n",
    "# Print the top 10 artists\n",
    "print(df.head(10))\n"
   ]
  },
  {
   "cell_type": "code",
   "execution_count": 8,
   "metadata": {},
   "outputs": [
    {
     "name": "stdout",
     "output_type": "stream",
     "text": [
      "            Artist  Total Chart Entries Weekly for Past 5 years\n",
      "0            Drake                                          846\n",
      "54   Morgan Wallen                                          638\n",
      "78        Lil Baby                                          504\n",
      "33    Taylor Swift                                          437\n",
      "37      Luke Combs                                          379\n",
      "2      Post Malone                                          378\n",
      "523       Doja Cat                                          378\n",
      "367         DaBaby                                          337\n",
      "397            SZA                                          310\n",
      "178  Billie Eilish                                          281\n"
     ]
    }
   ],
   "source": [
    "import datetime\n",
    "import billboard\n",
    "import pandas as pd\n",
    "from collections import defaultdict\n",
    "\n",
    "# Initiate the dictionary to store artist data\n",
    "artist_data = defaultdict(int)\n",
    "\n",
    "# Set the date for 5 years ago\n",
    "date = datetime.datetime.now() - datetime.timedelta(weeks=5*52)\n",
    "\n",
    "# Loop over each week for the past 5 years\n",
    "while date < datetime.datetime.now():\n",
    "    # Fetch the top 100 songs for this week\n",
    "    chart = billboard.ChartData('hot-100', date=date.strftime('%Y-%m-%d'))\n",
    "\n",
    "    # Loop over each song in the chart\n",
    "    for song in chart:\n",
    "        # Loop over each artist for the song (songs can have multiple artists)\n",
    "        for artist in song.artist.split(' Featuring '):\n",
    "            # Increment the number of weeks this artist has been in the top 100\n",
    "            artist_data[artist] += 1\n",
    "\n",
    "    # Increment the date by one week\n",
    "    date += datetime.timedelta(weeks=1)\n",
    "\n",
    "# Convert the artist data into a DataFrame\n",
    "df = pd.DataFrame(list(artist_data.items()), columns=['Artist', 'Total Chart Entries Weekly for Past 5 years'])\n",
    "\n",
    "# Sort the DataFrame by the number of weeks in the top 100\n",
    "df = df.sort_values('Total Chart Entries Weekly for Past 5 years', ascending=False)\n",
    "\n",
    "# Print the top 10 artists\n",
    "print(df.head(10))\n"
   ]
  }
 ],
 "metadata": {
  "kernelspec": {
   "display_name": "base",
   "language": "python",
   "name": "python3"
  },
  "language_info": {
   "codemirror_mode": {
    "name": "ipython",
    "version": 3
   },
   "file_extension": ".py",
   "mimetype": "text/x-python",
   "name": "python",
   "nbconvert_exporter": "python",
   "pygments_lexer": "ipython3",
   "version": "3.8.5"
  },
  "orig_nbformat": 4,
  "vscode": {
   "interpreter": {
    "hash": "40d3a090f54c6569ab1632332b64b2c03c39dcf918b08424e98f38b5ae0af88f"
   }
  }
 },
 "nbformat": 4,
 "nbformat_minor": 2
}
